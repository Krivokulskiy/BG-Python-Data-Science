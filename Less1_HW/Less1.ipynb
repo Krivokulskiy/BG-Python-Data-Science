{
 "cells": [
  {
   "cell_type": "code",
   "execution_count": 5,
   "metadata": {},
   "outputs": [],
   "source": [
    "import numpy as np\n",
    "### задание 1.1"
   ]
  },
  {
   "cell_type": "code",
   "execution_count": 19,
   "metadata": {},
   "outputs": [
    {
     "name": "stdout",
     "output_type": "stream",
     "text": [
      "[[12 13 14 15 16 17 18 19 20 21 22 23]]\n"
     ]
    },
    {
     "data": {
      "text/plain": [
       "2"
      ]
     },
     "execution_count": 19,
     "metadata": {},
     "output_type": "execute_result"
    }
   ],
   "source": [
    "a = np.array([range(12,24)])\n",
    "print(a)\n",
    "a.shape"
   ]
  },
  {
   "cell_type": "code",
   "execution_count": 7,
   "metadata": {},
   "outputs": [
    {
     "name": "stdout",
     "output_type": "stream",
     "text": [
      "[[12 13 14 15 16 17]\n",
      " [18 19 20 21 22 23]]\n"
     ]
    }
   ],
   "source": [
    "a.shape = (2,6)\n",
    "print(a)"
   ]
  },
  {
   "cell_type": "code",
   "execution_count": 8,
   "metadata": {},
   "outputs": [
    {
     "name": "stdout",
     "output_type": "stream",
     "text": [
      "[[12 13 14 15]\n",
      " [16 17 18 19]\n",
      " [20 21 22 23]]\n"
     ]
    }
   ],
   "source": [
    "a.shape = (3,4)\n",
    "print(a)"
   ]
  },
  {
   "cell_type": "code",
   "execution_count": 9,
   "metadata": {},
   "outputs": [
    {
     "name": "stdout",
     "output_type": "stream",
     "text": [
      "[[12 13 14]\n",
      " [15 16 17]\n",
      " [18 19 20]\n",
      " [21 22 23]]\n"
     ]
    }
   ],
   "source": [
    "a.shape = (4,3)\n",
    "print(a)"
   ]
  },
  {
   "cell_type": "code",
   "execution_count": 10,
   "metadata": {},
   "outputs": [
    {
     "name": "stdout",
     "output_type": "stream",
     "text": [
      "[[12 13]\n",
      " [14 15]\n",
      " [16 17]\n",
      " [18 19]\n",
      " [20 21]\n",
      " [22 23]]\n"
     ]
    }
   ],
   "source": [
    "a.shape = (6,2)\n",
    "print(a)"
   ]
  },
  {
   "cell_type": "code",
   "execution_count": 11,
   "metadata": {},
   "outputs": [
    {
     "name": "stdout",
     "output_type": "stream",
     "text": [
      "[[12 13 14 15 16 17 18 19 20 21 22 23]]\n"
     ]
    }
   ],
   "source": [
    "a.shape = (1,12)\n",
    "print(a)"
   ]
  },
  {
   "cell_type": "code",
   "execution_count": 12,
   "metadata": {},
   "outputs": [
    {
     "name": "stdout",
     "output_type": "stream",
     "text": [
      "[[12 13 14 15 16 17]\n",
      " [18 19 20 21 22 23]]\n"
     ]
    }
   ],
   "source": [
    "z=a.reshape(2,-1)\n",
    "print(z)"
   ]
  },
  {
   "cell_type": "code",
   "execution_count": 13,
   "metadata": {},
   "outputs": [
    {
     "name": "stdout",
     "output_type": "stream",
     "text": [
      "[[12 13 14 15]\n",
      " [16 17 18 19]\n",
      " [20 21 22 23]]\n"
     ]
    }
   ],
   "source": [
    "z=a.reshape(3,-1)\n",
    "print(z)"
   ]
  },
  {
   "cell_type": "code",
   "execution_count": 14,
   "metadata": {},
   "outputs": [
    {
     "name": "stdout",
     "output_type": "stream",
     "text": [
      "[[12 13]\n",
      " [14 15]\n",
      " [16 17]\n",
      " [18 19]\n",
      " [20 21]\n",
      " [22 23]]\n"
     ]
    }
   ],
   "source": [
    "z=a.reshape(6,-1)\n",
    "print(z)"
   ]
  },
  {
   "cell_type": "code",
   "execution_count": 15,
   "metadata": {},
   "outputs": [
    {
     "name": "stdout",
     "output_type": "stream",
     "text": [
      "[[12 13 14 15 16 17]\n",
      " [18 19 20 21 22 23]]\n"
     ]
    }
   ],
   "source": [
    "z=a.reshape(-1,6)\n",
    "print(z)"
   ]
  },
  {
   "cell_type": "code",
   "execution_count": 18,
   "metadata": {},
   "outputs": [
    {
     "name": "stdout",
     "output_type": "stream",
     "text": [
      "[[12]\n",
      " [13]\n",
      " [14]\n",
      " [15]\n",
      " [16]\n",
      " [17]\n",
      " [18]\n",
      " [19]\n",
      " [20]\n",
      " [21]\n",
      " [22]\n",
      " [23]]\n"
     ]
    },
    {
     "data": {
      "text/plain": [
       "2"
      ]
     },
     "execution_count": 18,
     "metadata": {},
     "output_type": "execute_result"
    }
   ],
   "source": [
    "z=a.reshape(-1,1)\n",
    "print(z)\n",
    "z.shape\n",
    "z.ndim"
   ]
  },
  {
   "cell_type": "markdown",
   "metadata": {},
   "source": [
    "#### Так как команда ndim по отношению к массиву, состоящему из 1 столбца и 12 строк выдает значение 2, то данный массив является двумерным. Считать его одномерным нельзя. "
   ]
  },
  {
   "cell_type": "code",
   "execution_count": 32,
   "metadata": {},
   "outputs": [
    {
     "data": {
      "text/plain": [
       "array([[0.04690301, 0.08745139, 0.93325003, 0.25703341],\n",
       "       [0.22874614, 0.10388194, 0.49528356, 0.08671648],\n",
       "       [0.69340923, 0.66574198, 0.69597812, 0.38954606]])"
      ]
     },
     "execution_count": 32,
     "metadata": {},
     "output_type": "execute_result"
    }
   ],
   "source": [
    "### задание 1.2\n",
    "rnd=np.random.rand(3,4)\n",
    "rnd"
   ]
  },
  {
   "cell_type": "code",
   "execution_count": 33,
   "metadata": {},
   "outputs": [
    {
     "data": {
      "text/plain": [
       "array([[0.04690301, 0.08745139, 0.93325003, 0.25703341, 0.22874614,\n",
       "        0.10388194, 0.49528356, 0.08671648, 0.69340923, 0.66574198,\n",
       "        0.69597812, 0.38954606]])"
      ]
     },
     "execution_count": 33,
     "metadata": {},
     "output_type": "execute_result"
    }
   ],
   "source": [
    "rnd.reshape(1,-1)"
   ]
  },
  {
   "cell_type": "code",
   "execution_count": 54,
   "metadata": {},
   "outputs": [
    {
     "name": "stdout",
     "output_type": "stream",
     "text": [
      "[20 18 16 14 12 10  8  6  4  2]\n"
     ]
    },
    {
     "data": {
      "text/plain": [
       "(10,)"
      ]
     },
     "execution_count": 54,
     "metadata": {},
     "output_type": "execute_result"
    }
   ],
   "source": [
    "#### задание 1.3\n",
    "a=np.arange(20,0,-2,)\n",
    "print(a)\n",
    "a.shape"
   ]
  },
  {
   "cell_type": "code",
   "execution_count": 55,
   "metadata": {},
   "outputs": [
    {
     "name": "stdout",
     "output_type": "stream",
     "text": [
      "[[20]\n",
      " [18]\n",
      " [16]\n",
      " [14]\n",
      " [12]\n",
      " [10]\n",
      " [ 8]\n",
      " [ 6]\n",
      " [ 4]\n",
      " [ 2]]\n"
     ]
    },
    {
     "data": {
      "text/plain": [
       "(10, 1)"
      ]
     },
     "execution_count": 55,
     "metadata": {},
     "output_type": "execute_result"
    }
   ],
   "source": [
    "b=(np.arange(20,1,-2)).reshape(10,1)\n",
    "print(b)\n",
    "b.shape"
   ]
  },
  {
   "cell_type": "code",
   "execution_count": null,
   "metadata": {},
   "outputs": [],
   "source": [
    "### как видно из рещультата применения функции shape массив a является одномерным, массив b являеся двумерным"
   ]
  },
  {
   "cell_type": "code",
   "execution_count": null,
   "metadata": {},
   "outputs": [],
   "source": [
    "#### Задание 1.4."
   ]
  },
  {
   "cell_type": "code",
   "execution_count": 73,
   "metadata": {},
   "outputs": [
    {
     "name": "stdout",
     "output_type": "stream",
     "text": [
      "[[0. 0. 0. 0. 0.]\n",
      " [0. 0. 0. 0. 0.]\n",
      " [0. 0. 0. 0. 0.]\n",
      " [0. 0. 0. 0. 0.]]\n",
      "[[1. 1. 1. 1. 1.]\n",
      " [1. 1. 1. 1. 1.]\n",
      " [1. 1. 1. 1. 1.]]\n"
     ]
    }
   ],
   "source": [
    "a=np.zeros((3,2))\n",
    "print(zero_array)\n",
    "b=np.ones((2,2))\n",
    "print (one_array)"
   ]
  },
  {
   "cell_type": "code",
   "execution_count": 74,
   "metadata": {},
   "outputs": [
    {
     "data": {
      "text/plain": [
       "10"
      ]
     },
     "execution_count": 74,
     "metadata": {},
     "output_type": "execute_result"
    }
   ],
   "source": [
    "v=np.vstack((a,b))\n",
    "v.size"
   ]
  },
  {
   "cell_type": "code",
   "execution_count": 143,
   "metadata": {},
   "outputs": [
    {
     "name": "stdout",
     "output_type": "stream",
     "text": [
      "[[5 9 1]\n",
      " [9 0 3]\n",
      " [4 7 3]\n",
      " [0 7 3]]\n"
     ]
    }
   ],
   "source": [
    "### задание 1.5\n",
    "A=np.random.randint(0,12,(4,3))\n",
    "print(A)\n",
    "\n",
    "\n"
   ]
  },
  {
   "cell_type": "code",
   "execution_count": null,
   "metadata": {},
   "outputs": [],
   "source": []
  },
  {
   "cell_type": "code",
   "execution_count": 144,
   "metadata": {},
   "outputs": [
    {
     "name": "stdout",
     "output_type": "stream",
     "text": [
      "[[5 9 4 0]\n",
      " [9 0 7 7]\n",
      " [1 3 3 3]]\n"
     ]
    }
   ],
   "source": [
    "At=A.transpose()\n",
    "print(At)"
   ]
  },
  {
   "cell_type": "code",
   "execution_count": 145,
   "metadata": {},
   "outputs": [
    {
     "name": "stdout",
     "output_type": "stream",
     "text": [
      "[[107  48  86  66]\n",
      " [ 48  90  45   9]\n",
      " [ 86  45  74  58]\n",
      " [ 66   9  58  58]]\n"
     ]
    },
    {
     "data": {
      "text/plain": [
       "30"
      ]
     },
     "execution_count": 145,
     "metadata": {},
     "output_type": "execute_result"
    }
   ],
   "source": [
    "B=np.dot(A,At)\n",
    "print(B)\n",
    "b.size\n"
   ]
  },
  {
   "cell_type": "code",
   "execution_count": 146,
   "metadata": {},
   "outputs": [
    {
     "name": "stdout",
     "output_type": "stream",
     "text": [
      "[[-4.31946735e+13 -4.11377843e+13  1.46553357e+14 -9.10173478e+13]\n",
      " [-4.11377843e+13 -3.91788422e+13  1.39574625e+14 -8.66831884e+13]\n",
      " [ 1.46553357e+14  1.39574625e+14 -4.97234603e+14  3.08808859e+14]\n",
      " [-9.10173478e+13 -8.66831884e+13  3.08808859e+14 -1.91786554e+14]]\n"
     ]
    }
   ],
   "source": [
    "### нахождение обратной матрицы для матрицы B\n",
    "B_inv=np.linalg.inv(B)\n",
    "print (B_inv)"
   ]
  },
  {
   "cell_type": "code",
   "execution_count": 152,
   "metadata": {},
   "outputs": [
    {
     "data": {
      "text/plain": [
       "array([[ 6,  3, 12, 14],\n",
       "       [10,  7, 12,  4],\n",
       "       [ 6,  9,  2,  6],\n",
       "       [10, 10,  7,  4]])"
      ]
     },
     "execution_count": 152,
     "metadata": {},
     "output_type": "execute_result"
    }
   ],
   "source": [
    "### задание 1.6\n",
    "np.random.seed(42)\n",
    "C=np.random.randint(0,16,16)\n",
    "C=C.reshape(4,4)\n",
    "C"
   ]
  },
  {
   "cell_type": "code",
   "execution_count": 281,
   "metadata": {},
   "outputs": [
    {
     "name": "stdout",
     "output_type": "stream",
     "text": [
      "[[ 61177  30528 120946 140726]\n",
      " [100528  70990 120495  40099]\n",
      " [ 60946  90495  20814  60638]\n",
      " [100726 100099  70638  40638]]\n",
      "7.458616577743991e+18\n",
      "4\n",
      "[[ 2.90953654e-05 -1.06021369e-04 -1.06201073e-04  1.62328293e-04]\n",
      " [-2.42036748e-05  7.23561752e-05  7.88341194e-05 -1.05213526e-04]\n",
      " [-1.38898626e-05  6.16373425e-05  4.54970292e-05 -8.06087861e-05]\n",
      " [ 1.16456514e-05 -2.25801205e-05 -1.00355914e-05  2.15348320e-05]]\n"
     ]
    }
   ],
   "source": [
    "D=(C*10)+B\n",
    "print (D)\n",
    "### определитель матрицы, ранг и обратная матрица D\n",
    "print(np.linalg.det(D))\n",
    "print(np.linalg.matrix_rank(D))\n",
    "D_inv=np.linalg.inv(D)\n",
    "print(D_inv)"
   ]
  },
  {
   "cell_type": "code",
   "execution_count": 282,
   "metadata": {},
   "outputs": [
    {
     "name": "stdout",
     "output_type": "stream",
     "text": [
      "[[1. 0. 0. 1.]\n",
      " [0. 1. 1. 0.]\n",
      " [0. 1. 1. 0.]\n",
      " [1. 0. 0. 1.]]\n",
      "16\n"
     ]
    }
   ],
   "source": [
    "#### задание 1.7\n",
    "for g in range(0,4):\n",
    "    for h in range(0,4):\n",
    "        if D_inv[g][h]<0:\n",
    "            D_inv[g][h]=0\n",
    "        elif D_inv[g][h]>0:\n",
    "                D_inv[g][h]=1           \n",
    "\n",
    "print(D_inv)\n",
    "print(D_inv.size)\n",
    "            \n",
    "        "
   ]
  },
  {
   "cell_type": "code",
   "execution_count": 284,
   "metadata": {},
   "outputs": [
    {
     "name": "stdout",
     "output_type": "stream",
     "text": [
      "[[107  48  86  66]\n",
      " [ 48  90  45   9]\n",
      " [ 86  45  74  58]\n",
      " [ 66   9  58  58]]\n",
      "\n",
      "[[ 6107  3048 12086 14066]\n",
      " [10048  7090 12045  4009]\n",
      " [ 6086  9045  2074  6058]\n",
      " [10066 10009  7058  4058]]\n",
      "\n",
      "[[1. 0. 0. 1.]\n",
      " [0. 1. 1. 0.]\n",
      " [0. 1. 1. 0.]\n",
      " [1. 0. 0. 1.]]\n",
      "\n",
      "[[  107  3048 12086    66]\n",
      " [10048    90    45  4009]\n",
      " [ 6086    45    74  6058]\n",
      " [   66 10009  7058    58]]\n"
     ]
    }
   ],
   "source": [
    "E=np.where(D_inv>0,B,C)\n",
    "print(B)\n",
    "print()\n",
    "print(C)\n",
    "print()\n",
    "print(D_inv)\n",
    "print()\n",
    "print(E)"
   ]
  },
  {
   "cell_type": "code",
   "execution_count": null,
   "metadata": {},
   "outputs": [],
   "source": []
  }
 ],
 "metadata": {
  "kernelspec": {
   "display_name": "Python 3",
   "language": "python",
   "name": "python3"
  },
  "language_info": {
   "codemirror_mode": {
    "name": "ipython",
    "version": 3
   },
   "file_extension": ".py",
   "mimetype": "text/x-python",
   "name": "python",
   "nbconvert_exporter": "python",
   "pygments_lexer": "ipython3",
   "version": "3.7.3"
  }
 },
 "nbformat": 4,
 "nbformat_minor": 2
}
